{
 "cells": [
  {
   "cell_type": "code",
   "execution_count": 1,
   "id": "7e14e994",
   "metadata": {},
   "outputs": [],
   "source": [
    "import numpy as np\n",
    "import pandas as pd\n",
    "import re"
   ]
  },
  {
   "cell_type": "code",
   "execution_count": 2,
   "id": "b7ea5a83",
   "metadata": {},
   "outputs": [
    {
     "data": {
      "text/html": [
       "<div>\n",
       "<style scoped>\n",
       "    .dataframe tbody tr th:only-of-type {\n",
       "        vertical-align: middle;\n",
       "    }\n",
       "\n",
       "    .dataframe tbody tr th {\n",
       "        vertical-align: top;\n",
       "    }\n",
       "\n",
       "    .dataframe thead th {\n",
       "        text-align: right;\n",
       "    }\n",
       "</style>\n",
       "<table border=\"1\" class=\"dataframe\">\n",
       "  <thead>\n",
       "    <tr style=\"text-align: right;\">\n",
       "      <th></th>\n",
       "      <th>title</th>\n",
       "      <th>released_year</th>\n",
       "      <th>rated_class</th>\n",
       "      <th>run_time</th>\n",
       "      <th>stars</th>\n",
       "      <th>total_ratings</th>\n",
       "      <th>genre</th>\n",
       "      <th>summary</th>\n",
       "    </tr>\n",
       "  </thead>\n",
       "  <tbody>\n",
       "    <tr>\n",
       "      <th>0</th>\n",
       "      <td>Madame Web</td>\n",
       "      <td>2024.0</td>\n",
       "      <td>PG</td>\n",
       "      <td>1h 56m</td>\n",
       "      <td>3.8</td>\n",
       "      <td>28K</td>\n",
       "      <td>Action|Adventure|Sci-Fi</td>\n",
       "      <td>Cassandra Webb is a New York metropolis parame...</td>\n",
       "    </tr>\n",
       "    <tr>\n",
       "      <th>1</th>\n",
       "      <td>Borderlands</td>\n",
       "      <td>2024.0</td>\n",
       "      <td>NaN</td>\n",
       "      <td>1h 42m</td>\n",
       "      <td>NaN</td>\n",
       "      <td>NaN</td>\n",
       "      <td>Action|Adventure|Comedy</td>\n",
       "      <td>The popular video game set on the abandoned fi...</td>\n",
       "    </tr>\n",
       "    <tr>\n",
       "      <th>2</th>\n",
       "      <td>Oppenheimer</td>\n",
       "      <td>2023.0</td>\n",
       "      <td>14A</td>\n",
       "      <td>3h</td>\n",
       "      <td>8.4</td>\n",
       "      <td>654K</td>\n",
       "      <td>Biography|Drama|History</td>\n",
       "      <td>The story of American scientist J. Robert Oppe...</td>\n",
       "    </tr>\n",
       "    <tr>\n",
       "      <th>3</th>\n",
       "      <td>Dune: Part Two</td>\n",
       "      <td>2024.0</td>\n",
       "      <td>PG</td>\n",
       "      <td>2h 46m</td>\n",
       "      <td>9.1</td>\n",
       "      <td>28K</td>\n",
       "      <td>Action|Adventure|Drama</td>\n",
       "      <td>Paul Atreides unites with Chani and the Fremen...</td>\n",
       "    </tr>\n",
       "    <tr>\n",
       "      <th>4</th>\n",
       "      <td>Poor Things</td>\n",
       "      <td>2023.0</td>\n",
       "      <td>18A</td>\n",
       "      <td>2h 21m</td>\n",
       "      <td>8.3</td>\n",
       "      <td>115K</td>\n",
       "      <td>Comedy|Drama|Romance</td>\n",
       "      <td>The incredible tale about the fantastical evol...</td>\n",
       "    </tr>\n",
       "  </tbody>\n",
       "</table>\n",
       "</div>"
      ],
      "text/plain": [
       "            title  released_year rated_class run_time  stars total_ratings  \\\n",
       "0      Madame Web         2024.0          PG   1h 56m    3.8           28K   \n",
       "1     Borderlands         2024.0         NaN   1h 42m    NaN           NaN   \n",
       "2     Oppenheimer         2023.0         14A       3h    8.4          654K   \n",
       "3  Dune: Part Two         2024.0          PG   2h 46m    9.1           28K   \n",
       "4     Poor Things         2023.0         18A   2h 21m    8.3          115K   \n",
       "\n",
       "                     genre                                            summary  \n",
       "0  Action|Adventure|Sci-Fi  Cassandra Webb is a New York metropolis parame...  \n",
       "1  Action|Adventure|Comedy  The popular video game set on the abandoned fi...  \n",
       "2  Biography|Drama|History  The story of American scientist J. Robert Oppe...  \n",
       "3   Action|Adventure|Drama  Paul Atreides unites with Chani and the Fremen...  \n",
       "4     Comedy|Drama|Romance  The incredible tale about the fantastical evol...  "
      ]
     },
     "execution_count": 2,
     "metadata": {},
     "output_type": "execute_result"
    }
   ],
   "source": [
    "df = pd.read_csv('final_movies.csv')\n",
    "df.head()"
   ]
  },
  {
   "cell_type": "code",
   "execution_count": 3,
   "id": "56522eff",
   "metadata": {},
   "outputs": [
    {
     "data": {
      "text/plain": [
       "(3650, 8)"
      ]
     },
     "execution_count": 3,
     "metadata": {},
     "output_type": "execute_result"
    }
   ],
   "source": [
    "# inspecting rows and columns of our dataset\n",
    "df.shape"
   ]
  },
  {
   "cell_type": "code",
   "execution_count": 4,
   "id": "b263ab25",
   "metadata": {},
   "outputs": [
    {
     "name": "stdout",
     "output_type": "stream",
     "text": [
      "<class 'pandas.core.frame.DataFrame'>\n",
      "RangeIndex: 3650 entries, 0 to 3649\n",
      "Data columns (total 8 columns):\n",
      " #   Column         Non-Null Count  Dtype  \n",
      "---  ------         --------------  -----  \n",
      " 0   title          3650 non-null   object \n",
      " 1   released_year  3580 non-null   float64\n",
      " 2   rated_class    3415 non-null   object \n",
      " 3   run_time       3516 non-null   object \n",
      " 4   stars          3486 non-null   float64\n",
      " 5   total_ratings  3486 non-null   object \n",
      " 6   genre          3616 non-null   object \n",
      " 7   summary        3613 non-null   object \n",
      "dtypes: float64(2), object(6)\n",
      "memory usage: 228.3+ KB\n"
     ]
    }
   ],
   "source": [
    "df.info()"
   ]
  },
  {
   "cell_type": "markdown",
   "id": "ab358836-28ea-446a-a6e4-e7a24ff3d32f",
   "metadata": {},
   "source": [
    "We can see that every columns except title has some missing values"
   ]
  },
  {
   "cell_type": "code",
   "execution_count": 5,
   "id": "2831e7b2-ff81-4fbd-b68f-01c26e819626",
   "metadata": {},
   "outputs": [
    {
     "data": {
      "text/plain": [
       "title            0.000000\n",
       "released_year    1.917808\n",
       "rated_class      6.438356\n",
       "run_time         3.671233\n",
       "stars            4.493151\n",
       "total_ratings    4.493151\n",
       "genre            0.931507\n",
       "summary          1.013699\n",
       "dtype: float64"
      ]
     },
     "execution_count": 5,
     "metadata": {},
     "output_type": "execute_result"
    }
   ],
   "source": [
    "# calculating the missing percentage in each columns\n",
    "(df.isnull().mean())* 100"
   ]
  },
  {
   "cell_type": "markdown",
   "id": "1e45339f-427e-4f5d-8815-08f996e61cda",
   "metadata": {},
   "source": [
    "## Data cleaning and preprocessing"
   ]
  },
  {
   "cell_type": "code",
   "execution_count": 10,
   "id": "3a643f3c-9d0b-485e-9bcb-e8967a27c899",
   "metadata": {},
   "outputs": [],
   "source": [
    "class Utils:\n",
    "    \"\"\"\n",
    "    Utility wrapper class that provides functionality for cleaning Helper class\n",
    "    \"\"\"\n",
    "    \n",
    "    number_pattern = re.compile(r'[0-9]*')\n",
    "    \n",
    "    @staticmethod\n",
    "    def convert_to_minutes(run_time):\n",
    "        minutes = 0\n",
    "        x = run_time.split(' ')\n",
    "        match = re.match(Utils.number_pattern, x[0])\n",
    "        s = match.start()\n",
    "        e = match.end()\n",
    "        hours = int(x[0][s:e])\n",
    "        minutes += int(match[0])* 60\n",
    "        if len(x) > 1:\n",
    "            match = re.match(Utils.number_pattern, x[1])\n",
    "            s = match.start()\n",
    "            e = match.end()\n",
    "            mins = int(x[1][s:e])\n",
    "            minutes += int(mins)\n",
    "        return minutes\n",
    "\n",
    "\n",
    "class DataCleaningHelper:\n",
    "\n",
    "    @staticmethod\n",
    "    def convert_total_rating(item):\n",
    "        if type(item) != float:\n",
    "            if '.' in item:\n",
    "                item = item.replace('K', '00')\n",
    "                item = item.replace('M', '00000')\n",
    "            else:\n",
    "                item = item.replace('K', '000')\n",
    "                item = item.replace('M', '000000')\n",
    "            item = item.replace('.', '')\n",
    "            return int(item)\n",
    "        return np.nan\n",
    "\n",
    "    @staticmethod\n",
    "    def categorize_run_time(item):\n",
    "        if type(item) == str:\n",
    "            minutes = Utils.convert_to_minutes(item)\n",
    "            if minutes < 90:\n",
    "                return 'very short'\n",
    "            elif minutes < 120:\n",
    "                return 'short'\n",
    "            elif minutes < 150:\n",
    "                return 'medium'\n",
    "            elif minutes < 180:\n",
    "                return 'long'\n",
    "            return 'extended'\n",
    "                \n",
    "        else:\n",
    "            return np.nan\n",
    "    "
   ]
  },
  {
   "cell_type": "code",
   "execution_count": 13,
   "id": "a0a917d9-4d3a-4c2a-97cc-ac7e500d954f",
   "metadata": {},
   "outputs": [],
   "source": [
    "# df['total_ratings'] = df['total_ratings'].apply(DataCleaningHelper.convert_total_rating)\n",
    "# df['run_time'] = df['run_time'].apply(DataCleaningHelper.categorize_run_time)"
   ]
  },
  {
   "cell_type": "code",
   "execution_count": null,
   "id": "123d006e-7eec-4ed4-8430-932172f7c753",
   "metadata": {},
   "outputs": [],
   "source": [
    "# df.head()"
   ]
  },
  {
   "cell_type": "code",
   "execution_count": 11,
   "id": "f1bec35d-9e88-41ae-8a18-9794446d3b4e",
   "metadata": {},
   "outputs": [],
   "source": [
    "\n"
   ]
  },
  {
   "cell_type": "code",
   "execution_count": 14,
   "id": "21cd4bf9-6d82-42a3-be7a-ef458660b8fc",
   "metadata": {},
   "outputs": [
    {
     "data": {
      "text/plain": [
       "rated_class\n",
       "PG           1049\n",
       "14A          1024\n",
       "18A           339\n",
       "R             303\n",
       "G             236\n",
       "13+            67\n",
       "16+            65\n",
       "18+            56\n",
       "PG-13          54\n",
       "TV-MA          52\n",
       "Not Rated      38\n",
       "PA             23\n",
       "AA             19\n",
       "TV-14          16\n",
       "14+            14\n",
       "14             14\n",
       "A               9\n",
       "Unrated         8\n",
       "TV-PG           7\n",
       "(Banned)        7\n",
       "18              4\n",
       "Approved        4\n",
       "TV-G            3\n",
       "TV-Y7           1\n",
       "RX              1\n",
       "Passed          1\n",
       "7+              1\n",
       "Name: count, dtype: int64"
      ]
     },
     "execution_count": 14,
     "metadata": {},
     "output_type": "execute_result"
    }
   ],
   "source": [
    "df['rated_class'].value_counts()"
   ]
  },
  {
   "cell_type": "code",
   "execution_count": null,
   "id": "c26da7e9-6c1b-45f2-8142-4b60786121c8",
   "metadata": {},
   "outputs": [],
   "source": []
  },
  {
   "cell_type": "code",
   "execution_count": null,
   "id": "0ffe68bc-3c45-4548-8509-4f03ccdc7be4",
   "metadata": {},
   "outputs": [],
   "source": []
  },
  {
   "cell_type": "code",
   "execution_count": null,
   "id": "1663b5e3-f476-4c6f-b996-913ab5eb1076",
   "metadata": {},
   "outputs": [],
   "source": []
  }
 ],
 "metadata": {
  "kernelspec": {
   "display_name": "Python 3 (ipykernel)",
   "language": "python",
   "name": "python3"
  },
  "language_info": {
   "codemirror_mode": {
    "name": "ipython",
    "version": 3
   },
   "file_extension": ".py",
   "mimetype": "text/x-python",
   "name": "python",
   "nbconvert_exporter": "python",
   "pygments_lexer": "ipython3",
   "version": "3.11.7"
  }
 },
 "nbformat": 4,
 "nbformat_minor": 5
}
