{
 "cells": [
  {
   "cell_type": "code",
   "execution_count": 1,
   "id": "e7435396",
   "metadata": {},
   "outputs": [],
   "source": [
    "import requests\n",
    "from selenium import webdriver\n",
    "from bs4 import BeautifulSoup as BS\n",
    "from selenium.webdriver.common.by import By\n",
    "from selenium.webdriver.support.ui import WebDriverWait\n",
    "import pandas as pd"
   ]
  },
  {
   "cell_type": "code",
   "execution_count": 2,
   "id": "beefcc59",
   "metadata": {},
   "outputs": [],
   "source": [
    "BASE_URL = \"https://www.imdb.com/search/title/?title_type=feature\""
   ]
  },
  {
   "cell_type": "code",
   "execution_count": 3,
   "id": "554b5135",
   "metadata": {},
   "outputs": [],
   "source": [
    "webdriver.ChromeOptions().add_argument('--headless')\n",
    "driver = webdriver.Chrome()\n",
    "driver.maximize_window()\n",
    "driver.get(BASE_URL)"
   ]
  },
  {
   "cell_type": "code",
   "execution_count": 6,
   "id": "d4db66ce",
   "metadata": {},
   "outputs": [],
   "source": [
    "page_source = driver.page_source\n",
    "soup = BS(page_source, \"html.parser\")"
   ]
  },
  {
   "cell_type": "code",
   "execution_count": 7,
   "id": "9407ebe8",
   "metadata": {},
   "outputs": [],
   "source": [
    "import time\n",
    "for _ in range(30):\n",
    "    btn = driver.find_elements(By.XPATH, '//*[@id=\"__next\"]/main/div[2]/div[3]/section/section/div/section/section/div[2]/div/section/div[2]/div[2]/div[2]/div[1]/span/button')\n",
    "    btn = btn[0]\n",
    "    driver.execute_script(\"arguments[0].scrollIntoView();\", btn)\n",
    "    try:\n",
    "        btn.click()\n",
    "    except Exception:\n",
    "        pass\n",
    "    time.sleep(1)\n",
    "print('Done')"
   ]
  },
  {
   "cell_type": "code",
   "execution_count": 8,
   "id": "e9c4ad3f",
   "metadata": {},
   "outputs": [],
   "source": [
    "soup = BS(driver.page_source.encode('utf-8'), \"html.parser\")"
   ]
  },
  {
   "cell_type": "code",
   "execution_count": 9,
   "id": "feb93e6c",
   "metadata": {},
   "outputs": [],
   "source": [
    "movies_list_ul = soup.find(\"ul\", {\"class\": \"ipc-metadata-list\"})"
   ]
  },
  {
   "cell_type": "code",
   "execution_count": 10,
   "id": "fb93b239",
   "metadata": {},
   "outputs": [],
   "source": [
    "movies_list_with_title = []\n",
    "for i in movies_list_ul:\n",
    "    title = i.h3.text\n",
    "    title = (title.split('.')[1]).strip()\n",
    "    movies_list_with_title.append({'title': title, 'link': i.a['href']})\n",
    "    "
   ]
  },
  {
   "cell_type": "code",
   "execution_count": 11,
   "id": "85d95e1f",
   "metadata": {},
   "outputs": [],
   "source": [
    "df = pd.DataFrame(movies_list_with_title)"
   ]
  },
  {
   "cell_type": "code",
   "execution_count": 12,
   "id": "fa59fdd7",
   "metadata": {},
   "outputs": [],
   "source": [
    "df.to_csv('movies_list_with_title.csv', sep=\",\", index=False)"
   ]
  },
  {
   "cell_type": "code",
   "execution_count": 13,
   "id": "33bd7ef9",
   "metadata": {},
   "outputs": [],
   "source": [
    "df = pd.read_csv('movies_list_with_title.csv')"
   ]
  },
  {
   "cell_type": "code",
   "execution_count": 14,
   "id": "7f785e1b",
   "metadata": {},
   "outputs": [],
   "source": [
    "class ScrapingHelper:\n",
    "    \"\"\"\n",
    "    A helper class which helps the main scraping function to be maintainable and readable.\n",
    "    \"\"\"\n",
    "    \n",
    "    @staticmethod\n",
    "    def get_details(soup):\n",
    "        \"\"\"\n",
    "        function from scraping released year, rated class and movie run time\n",
    "        \"\"\"\n",
    "        released_year, rated, run_time = (None, None, None)\n",
    "        top_ul =  soup.find('ul', {'class':'cdJsTz'})\n",
    "        if top_ul:\n",
    "            lis = top_ul.find_all('li')\n",
    "            for i in lis:\n",
    "                if i.a:\n",
    "                    if 'parentalguide' in i.a['href']:\n",
    "                        rated = i.a.text\n",
    "                    if 'releaseinfo' in i.a['href']:\n",
    "                        released_year = i.a.text\n",
    "                else:\n",
    "                    run_time = i.text\n",
    "        return released_year, rated, run_time\n",
    "        \n",
    "    \n",
    "    @staticmethod\n",
    "    def find_stars_and_total_ratings(soup):\n",
    "        stars = soup.find('span', {'class':'cMEQkK'})\n",
    "        if stars:\n",
    "            stars = stars.text\n",
    "        else:\n",
    "            stars = None\n",
    "\n",
    "        total_ratings = soup.find('div', {'class':'gPVQxL'})\n",
    "        total_ratings = total_ratings.text if total_ratings else None\n",
    "        \n",
    "        return stars, total_ratings\n",
    "    \n",
    "    @staticmethod\n",
    "    def get_genre(soup):\n",
    "        genres_list = []\n",
    "        genres = soup.find_all('span', class_='ipc-chip__text')\n",
    "        for i in genres:\n",
    "            if i.text != 'Back to top':\n",
    "                genres_list.append(i.text)\n",
    "        return \"|\".join(genres_list)\n",
    "    \n",
    "    @staticmethod\n",
    "    def get_summary(soup):\n",
    "        summary =  soup.find('span', {'class':'chnFO'})\n",
    "        return summary.text if summary else None\n",
    "    \n",
    "    "
   ]
  },
  {
   "cell_type": "code",
   "execution_count": 15,
   "id": "eca960d4",
   "metadata": {},
   "outputs": [],
   "source": [
    "# movies map to store data for our dataframe\n",
    "movies = {\n",
    "    'title': [],\n",
    "    'released_year': [],\n",
    "    'rated_class': [],\n",
    "    'run_time': [],\n",
    "    'stars': [],\n",
    "    'total_ratings': [],\n",
    "    'genre': [],\n",
    "    'summary': []\n",
    "}"
   ]
  },
  {
   "cell_type": "code",
   "execution_count": 16,
   "id": "e2f503dd",
   "metadata": {},
   "outputs": [],
   "source": [
    "BASE_URL = \"https://imdb.com\"\n",
    "headers = {'User-Agent': 'Mozilla/5.0 (Macintosh; Intel Mac OS X 10_10_1) AppleWebKit/537.36 (KHTML, like Gecko) Chrome/39.0.2171.95 Safari/537.36'}\n",
    "for _, m in df[3079:].iterrows():\n",
    "    full_url = f\"{BASE_URL}{m['link']}\"\n",
    "    data = requests.get(full_url, headers=headers)\n",
    "    soup = BS(data.text, 'html.parser')\n",
    "    released_year, rated, run_time = ScrapingHelper.get_details(soup)\n",
    "    stars, total_ratings = ScrapingHelper.find_stars_and_total_ratings(soup)\n",
    "    genre = ScrapingHelper.get_genre(soup)\n",
    "    summary = ScrapingHelper.get_summary(soup)\n",
    "    \n",
    "    # appending to our map\n",
    "    movies['title'].append(m['title'])\n",
    "    movies['released_year'].append(released_year)\n",
    "    movies['rated_class'].append(rated)\n",
    "    movies['run_time'].append(run_time)\n",
    "    movies['stars'].append(stars)\n",
    "    movies['total_ratings'].append(total_ratings)\n",
    "    movies['genre'].append(genre)\n",
    "    movies['summary'].append(summary)"
   ]
  },
  {
   "cell_type": "code",
   "execution_count": 17,
   "id": "25f457a9",
   "metadata": {},
   "outputs": [],
   "source": [
    "movies = pd.DataFrame(movies)\n",
    "movies.to_csv('final_movies.csv', sep=\",\")"
   ]
  },
  {
   "cell_type": "code",
   "execution_count": null,
   "id": "e085f024",
   "metadata": {},
   "outputs": [],
   "source": []
  }
 ],
 "metadata": {
  "kernelspec": {
   "display_name": "Python 3 (ipykernel)",
   "language": "python",
   "name": "python3"
  },
  "language_info": {
   "codemirror_mode": {
    "name": "ipython",
    "version": 3
   },
   "file_extension": ".py",
   "mimetype": "text/x-python",
   "name": "python",
   "nbconvert_exporter": "python",
   "pygments_lexer": "ipython3",
   "version": "3.11.7"
  }
 },
 "nbformat": 4,
 "nbformat_minor": 5
}
