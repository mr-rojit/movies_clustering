{
 "cells": [
  {
   "cell_type": "code",
   "execution_count": 1,
   "id": "e7435396",
   "metadata": {},
   "outputs": [],
   "source": [
    "import requests\n",
    "from selenium import webdriver\n",
    "from bs4 import BeautifulSoup as BS\n",
    "from selenium.webdriver.common.by import By\n",
    "from selenium.webdriver.support.ui import WebDriverWait\n",
    "import pandas as pd"
   ]
  },
  {
   "cell_type": "code",
   "execution_count": 2,
   "id": "beefcc59",
   "metadata": {},
   "outputs": [],
   "source": [
    "BASE_URL = \"https://www.imdb.com/search/title/?title_type=feature\""
   ]
  },
  {
   "cell_type": "code",
   "execution_count": 27,
   "id": "554b5135",
   "metadata": {},
   "outputs": [],
   "source": [
    "webdriver.ChromeOptions().add_argument('--headless')\n",
    "driver = webdriver.Chrome()\n",
    "driver.maximize_window()\n",
    "driver.get(BASE_URL)"
   ]
  },
  {
   "cell_type": "code",
   "execution_count": 105,
   "id": "d4db66ce",
   "metadata": {},
   "outputs": [],
   "source": [
    "page_source = driver.page_source\n",
    "soup = BS(page_source, \"html.parser\")"
   ]
  },
  {
   "cell_type": "code",
   "execution_count": 4,
   "id": "9407ebe8",
   "metadata": {},
   "outputs": [],
   "source": [
    "import time\n",
    "for _ in range(30):\n",
    "    btn = driver.find_elements(By.XPATH, '//*[@id=\"__next\"]/main/div[2]/div[3]/section/section/div/section/section/div[2]/div/section/div[2]/div[2]/div[2]/div[1]/span/button')\n",
    "    btn = btn[0]\n",
    "    driver.execute_script(\"arguments[0].scrollIntoView();\", btn)\n",
    "    try:\n",
    "        btn.click()\n",
    "    except Exception:\n",
    "        pass\n",
    "    time.sleep(1)\n",
    "print('Done')"
   ]
  },
  {
   "cell_type": "code",
   "execution_count": 5,
   "id": "e9c4ad3f",
   "metadata": {},
   "outputs": [],
   "source": [
    "soup = BS(driver.page_source.encode('utf-8'), \"html.parser\")"
   ]
  },
  {
   "cell_type": "code",
   "execution_count": 6,
   "id": "feb93e6c",
   "metadata": {},
   "outputs": [],
   "source": [
    "movies_list_ul = soup.find(\"ul\", {\"class\": \"ipc-metadata-list\"})"
   ]
  },
  {
   "cell_type": "code",
   "execution_count": 7,
   "id": "d4a1ff40",
   "metadata": {},
   "outputs": [],
   "source": [
    "len(movies_list_ul)"
   ]
  },
  {
   "cell_type": "code",
   "execution_count": 8,
   "id": "fb93b239",
   "metadata": {},
   "outputs": [],
   "source": [
    "movies_list_with_title = []\n",
    "for i in movies_list_ul:\n",
    "    title = i.h3.text\n",
    "    title = (title.split('.')[1]).strip()\n",
    "    movies_list_with_title.append({'title': title, 'link': i.a['href']})\n",
    "    "
   ]
  },
  {
   "cell_type": "code",
   "execution_count": 9,
   "id": "85d95e1f",
   "metadata": {},
   "outputs": [],
   "source": [
    "df = pd.DataFrame(movies_list_with_title)"
   ]
  },
  {
   "cell_type": "code",
   "execution_count": 10,
   "id": "fa59fdd7",
   "metadata": {},
   "outputs": [],
   "source": [
    "df.to_csv('movies_list_with_title.csv', sep=\",\", index=False)"
   ]
  }
 ],
 "metadata": {
  "kernelspec": {
   "display_name": "Python 3 (ipykernel)",
   "language": "python",
   "name": "python3"
  },
  "language_info": {
   "codemirror_mode": {
    "name": "ipython",
    "version": 3
   },
   "file_extension": ".py",
   "mimetype": "text/x-python",
   "name": "python",
   "nbconvert_exporter": "python",
   "pygments_lexer": "ipython3",
   "version": "3.11.5"
  }
 },
 "nbformat": 4,
 "nbformat_minor": 5
}
